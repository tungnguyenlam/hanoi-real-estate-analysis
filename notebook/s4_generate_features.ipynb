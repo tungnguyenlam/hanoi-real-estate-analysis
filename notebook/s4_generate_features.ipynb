{
 "cells": [
  {
   "cell_type": "code",
   "execution_count": null,
   "id": "76b269ca",
   "metadata": {},
   "outputs": [],
   "source": [
    "from utils.query_model import *\n",
    "import pandas as pd\n",
    "import numpy as np\n",
    "from tqdm.notebook import tqdm\n",
    "import time\n",
    "import sys\n",
    "import re"
   ]
  },
  {
   "cell_type": "code",
   "execution_count": null,
   "id": "18d3ab65",
   "metadata": {},
   "outputs": [],
   "source": [
    "df = pd.read_csv('../data/guland_hanoi_listings_arcgis3.csv')"
   ]
  },
  {
   "cell_type": "code",
   "execution_count": null,
   "id": "cf3cccc2",
   "metadata": {},
   "outputs": [],
   "source": [
    "df.info()"
   ]
  },
  {
   "cell_type": "code",
   "execution_count": null,
   "id": "04729f90",
   "metadata": {},
   "outputs": [],
   "source": [
    "df.isna().sum()"
   ]
  },
  {
   "cell_type": "code",
   "execution_count": null,
   "id": "7310f947",
   "metadata": {},
   "outputs": [],
   "source": [
    "t, p, a, d, lat, lon, pm2, nl = \"Title\", \"Price\", \"Area\", \"Description\", \"Latitude\", \"Longitude\", \"Price per m2\", \"\\n\"\n",
    "\n",
    "def create_general_info(df):\n",
    "    # Convert Description NaNs to empty string\n",
    "    description = df[d].fillna(\"Không có mô tả\").astype(str)\n",
    "    \n",
    "    # prince_info = \"Giá nhà: \" + (df[p]/1000000).astype(str) + \"tỷ\" + nl\n",
    "    area_info = \"Diện tích: \" + df[a].astype(str) + \"m2\" + nl\n",
    "    # lat_info = \"Vĩ độ: \" + df[lat].astype(str) + nl\n",
    "    # lon_info = \"Kinh độ: \" + df[lon].astype(str) + nl\n",
    "    # pm2_info = \"Giá/m2: \" + (df[pm2]).astype(str) + \" triệu\" + nl\n",
    "\n",
    "    return df[t] + nl + description + nl + area_info #+  prince_info + lat_info + lon_info + pm2_info"
   ]
  },
  {
   "cell_type": "code",
   "execution_count": null,
   "id": "a3c076d2",
   "metadata": {},
   "outputs": [],
   "source": [
    "model = \"Qwen/Qwen3-0.6B-Base\"\n",
    "device = \"auto\"\n",
    "max_new_tokens = 5\n",
    "# batch_inference = True\n",
    "# batch_size = 20\n",
    "temperature = 1.0\n",
    "top_p = 1.0\n",
    "length_df = df.shape[0]\n",
    "max_retries = 3"
   ]
  },
  {
   "cell_type": "code",
   "execution_count": null,
   "id": "b552bb18",
   "metadata": {},
   "outputs": [],
   "source": [
    "sys_prompt = \"\"\"Bạn là chuyên gia phân tích bất động sản Việt Nam. \n",
    "Nhiệm vụ của bạn là xác định số phòng ngủ từ mô tả bất động sản.\n",
    "\n",
    "Quy trình phân tích:\n",
    "1. Tìm các cụm từ chính xác như: \" A phòng ngủ\", \"APN\", \"A PN\", \"A Phòng Ngủ\", \"A PHÒNG NGỦ\"\n",
    "2. Nếu thấy nhiều con số khác nhau, ưu tiên số được ghi kèm với \"phòng ngủ\" hoặc \"PN\"\n",
    "3. Nếu không tìm thấy thông tin rõ ràng, KHÔNG đưa ra giả định\n",
    "\n",
    "VÍ DỤ:\n",
    "\"Nhà có 3 phòng ngủ rộng rãi\" → 3\n",
    "\"Căn hộ 2PN\" → 2\n",
    "\"Nhà 4 phòng (2 phòng ngủ, 1 phòng khách)\" → 2\n",
    "\"Diện tích 80m2\" → KHÔNG đủ thông tin để xác định -> 0\n",
    "\n",
    "LƯU Ý QUAN TRỌNG:\n",
    "- Hạn chế trả lời số 0, cố gắng suy đoán thông tin về phòng ngủ\n",
    "- CHỈ trả lời MỘT chữ số từ 0-9\n",
    "- KHÔNG giải thích hoặc thêm từ nào khác\n",
    "\"\"\""
   ]
  },
  {
   "cell_type": "code",
   "execution_count": null,
   "id": "37f701d7",
   "metadata": {},
   "outputs": [],
   "source": [
    "df_new = pd.DataFrame()\n",
    "df_new['general_info'] = create_general_info(df)\n",
    "df_new.info()"
   ]
  },
  {
   "cell_type": "code",
   "execution_count": null,
   "id": "f1b8d394",
   "metadata": {},
   "outputs": [],
   "source": [
    "df_new.head()"
   ]
  },
  {
   "cell_type": "code",
   "execution_count": null,
   "id": "6010fa92",
   "metadata": {},
   "outputs": [],
   "source": [
    "df_new['category'] = -1\n",
    "df_new['retry_count'] = 0\n",
    "\n",
    "df_new.info()"
   ]
  },
  {
   "cell_type": "code",
   "execution_count": null,
   "id": "32af4fbd",
   "metadata": {},
   "outputs": [],
   "source": [
    "interface = ModelQueryInterface()\n",
    "interface.load_model(model_name=model, device_map=device)\n",
    "\n",
    "def check_valid_room_number_response(response):\n",
    "    # Clean response more thoroughly\n",
    "    response = response.strip().lower()\n",
    "    # First check for exact single digit\n",
    "    if re.search(r'^[1-9]$', response):\n",
    "        return int(response)\n",
    "    # Second try to extract first digit\n",
    "    match = re.search(r'[1-9]', response)\n",
    "    if match:\n",
    "        return int(match.group(0))\n",
    "    return None\n",
    "\n",
    "total_processed = 0\n",
    "total_errors = 0\n",
    "error_rate = 0.0\n",
    "\n",
    "for i in range(max_retries):\n",
    "    progress_bar = tqdm(range(length_df), desc=f\"Retry {i+1}/{max_retries} | Error rate: {error_rate:.2f}%\")\n",
    "    for idx in progress_bar:\n",
    "        if df_new.loc[idx, 'category'] == -1:\n",
    "            prompt = f\"{sys_prompt}\\nThông tin bất động sản:\\n{df_new.loc[idx, 'general_info']}\\nSố phòng ngủ ước lượng là:\"\n",
    "\n",
    "            response = interface.query_model(prompt, max_new_tokens=max_new_tokens, temperature=temperature, top_p=top_p)\n",
    "            room_number = check_valid_room_number_response(response)\n",
    "            # print(f\"Index: {idx}, Parsed: {room_number}\")\n",
    "            \n",
    "            total_processed += 1\n",
    "            \n",
    "            if room_number is not None:\n",
    "                df_new.loc[idx, 'category'] = room_number\n",
    "            else:\n",
    "                df_new.loc[idx, 'retry_count'] = df_new.loc[idx, 'retry_count'] + 1\n",
    "                total_errors += 1\n",
    "            \n",
    "            error_rate = (total_errors / total_processed) * 100\n",
    "            \n",
    "            if idx % 10 == 0:\n",
    "                progress_bar.set_description(f\"Retry {i+1}/{max_retries} | Error rate: {error_rate:.2f}%\")"
   ]
  },
  {
   "cell_type": "code",
   "execution_count": null,
   "id": "004e0f07",
   "metadata": {},
   "outputs": [],
   "source": [
    "df_new['category'].plot(kind = 'hist')"
   ]
  },
  {
   "cell_type": "code",
   "execution_count": null,
   "id": "15ea8993",
   "metadata": {},
   "outputs": [],
   "source": [
    "df.to_csv('../data/guland_hanoi_listings_with_bedrooms_arcgis4.csv', index=False)"
   ]
  }
 ],
 "metadata": {
  "kernelspec": {
   "display_name": "mlenv",
   "language": "python",
   "name": "python3"
  },
  "language_info": {
   "codemirror_mode": {
    "name": "ipython",
    "version": 3
   },
   "file_extension": ".py",
   "mimetype": "text/x-python",
   "name": "python",
   "nbconvert_exporter": "python",
   "pygments_lexer": "ipython3",
   "version": "3.13.5"
  }
 },
 "nbformat": 4,
 "nbformat_minor": 5
}
