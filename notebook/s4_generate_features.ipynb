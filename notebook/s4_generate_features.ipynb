{
 "cells": [
  {
   "cell_type": "code",
   "execution_count": 1,
   "id": "76b269ca",
   "metadata": {},
   "outputs": [],
   "source": [
    "from utils.query_model import *\n",
    "import pandas as pd\n",
    "import numpy as np\n",
    "from tqdm.notebook import tqdm\n",
    "import time\n",
    "import sys\n",
    "import re"
   ]
  },
  {
   "cell_type": "code",
   "execution_count": 2,
   "id": "18d3ab65",
   "metadata": {},
   "outputs": [],
   "source": [
    "df = pd.read_csv('../data/guland_hanoi_listings_arcgis3.csv')"
   ]
  },
  {
   "cell_type": "code",
   "execution_count": 3,
   "id": "cf3cccc2",
   "metadata": {},
   "outputs": [
    {
     "name": "stdout",
     "output_type": "stream",
     "text": [
      "<class 'pandas.core.frame.DataFrame'>\n",
      "RangeIndex: 16581 entries, 0 to 16580\n",
      "Data columns (total 13 columns):\n",
      " #   Column                Non-Null Count  Dtype  \n",
      "---  ------                --------------  -----  \n",
      " 0   Title                 16581 non-null  object \n",
      " 1   Price                 16581 non-null  float64\n",
      " 2   Area                  16581 non-null  float64\n",
      " 3   Address               16581 non-null  object \n",
      " 4   Description           14859 non-null  object \n",
      " 5   Link                  16581 non-null  object \n",
      " 6   Latitude              16581 non-null  float64\n",
      " 7   Longitude             16581 non-null  float64\n",
      " 8   Price per m2          16581 non-null  float64\n",
      " 9   distance_from_center  16581 non-null  float64\n",
      " 10  bin_x                 16581 non-null  int64  \n",
      " 11  bin_y                 16581 non-null  int64  \n",
      " 12  Area_Range            16581 non-null  object \n",
      "dtypes: float64(6), int64(2), object(5)\n",
      "memory usage: 1.6+ MB\n"
     ]
    }
   ],
   "source": [
    "df.info()"
   ]
  },
  {
   "cell_type": "code",
   "execution_count": 4,
   "id": "04729f90",
   "metadata": {},
   "outputs": [
    {
     "data": {
      "text/plain": [
       "Title                      0\n",
       "Price                      0\n",
       "Area                       0\n",
       "Address                    0\n",
       "Description             1722\n",
       "Link                       0\n",
       "Latitude                   0\n",
       "Longitude                  0\n",
       "Price per m2               0\n",
       "distance_from_center       0\n",
       "bin_x                      0\n",
       "bin_y                      0\n",
       "Area_Range                 0\n",
       "dtype: int64"
      ]
     },
     "execution_count": 4,
     "metadata": {},
     "output_type": "execute_result"
    }
   ],
   "source": [
    "df.isna().sum()"
   ]
  },
  {
   "cell_type": "code",
   "execution_count": 5,
   "id": "7310f947",
   "metadata": {},
   "outputs": [],
   "source": [
    "t, p, a, d, lat, lon, pm2, nl = \"Title\", \"Price\", \"Area\", \"Description\", \"Latitude\", \"Longitude\", \"Price per m2\", \"\\n\"\n",
    "\n",
    "def create_general_info(df):\n",
    "    # Convert Description NaNs to empty string\n",
    "    description = df[d].fillna(\"Không có mô tả\").astype(str)\n",
    "    \n",
    "    # prince_info = \"Giá nhà: \" + (df[p]/1000000).astype(str) + \"tỷ\" + nl\n",
    "    area_info = \"Diện tích: \" + df[a].astype(str) + \"m2\" + nl\n",
    "    # lat_info = \"Vĩ độ: \" + df[lat].astype(str) + nl\n",
    "    # lon_info = \"Kinh độ: \" + df[lon].astype(str) + nl\n",
    "    # pm2_info = \"Giá/m2: \" + (df[pm2]).astype(str) + \" triệu\" + nl\n",
    "\n",
    "    return df[t] + nl + description + nl + area_info #+  prince_info + lat_info + lon_info + pm2_info"
   ]
  },
  {
   "cell_type": "code",
   "execution_count": 6,
   "id": "a3c076d2",
   "metadata": {},
   "outputs": [],
   "source": [
    "model = \"Qwen/Qwen2.5-0.5B-Instruct\"\n",
    "device = \"auto\"\n",
    "max_new_tokens = 5\n",
    "# batch_inference = True\n",
    "# batch_size = 20\n",
    "temperature = 1.0\n",
    "top_p = 1.0\n",
    "length_df = df.shape[0]\n",
    "max_retries = 3"
   ]
  },
  {
   "cell_type": "code",
   "execution_count": 7,
   "id": "b552bb18",
   "metadata": {},
   "outputs": [],
   "source": [
    "sys_prompt = \"\"\"Bạn là chuyên gia phân tích bất động sản Việt Nam. \n",
    "Nhiệm vụ của bạn là xác định số phòng ngủ từ mô tả bất động sản.\n",
    "\n",
    "Quy trình phân tích:\n",
    "1. Tìm các cụm từ chính xác như: \" A phòng ngủ\", \"APN\", \"A PN\", \"A Phòng Ngủ\", \"A PHÒNG NGỦ\"\n",
    "2. Nếu thấy nhiều con số khác nhau, ưu tiên số được ghi kèm với \"phòng ngủ\" hoặc \"PN\"\n",
    "3. Nếu không tìm thấy thông tin rõ ràng, KHÔNG đưa ra giả định\n",
    "\n",
    "VÍ DỤ:\n",
    "\"Nhà có 3 phòng ngủ rộng rãi\" → 3\n",
    "\"Căn hộ 2PN\" → 2\n",
    "\"Nhà 4 phòng (2 phòng ngủ, 1 phòng khách)\" → 2\n",
    "\"Diện tích 80m2\" → KHÔNG đủ thông tin để xác định -> 0\n",
    "\n",
    "LƯU Ý QUAN TRỌNG:\n",
    "- Hạn chế trả lời số 0, cố gắng suy đoán thông tin về phòng ngủ\n",
    "- CHỈ trả lời MỘT chữ số từ 0-9\n",
    "- KHÔNG giải thích hoặc thêm từ nào khác\n",
    "\"\"\""
   ]
  },
  {
   "cell_type": "code",
   "execution_count": 8,
   "id": "37f701d7",
   "metadata": {},
   "outputs": [
    {
     "name": "stdout",
     "output_type": "stream",
     "text": [
      "<class 'pandas.core.frame.DataFrame'>\n",
      "RangeIndex: 16581 entries, 0 to 16580\n",
      "Data columns (total 1 columns):\n",
      " #   Column        Non-Null Count  Dtype \n",
      "---  ------        --------------  ----- \n",
      " 0   general_info  16581 non-null  object\n",
      "dtypes: object(1)\n",
      "memory usage: 129.7+ KB\n"
     ]
    }
   ],
   "source": [
    "df_new = pd.DataFrame()\n",
    "df_new['general_info'] = create_general_info(df)\n",
    "df_new.info()"
   ]
  },
  {
   "cell_type": "code",
   "execution_count": 9,
   "id": "f1b8d394",
   "metadata": {},
   "outputs": [
    {
     "data": {
      "text/html": [
       "<div>\n",
       "<style scoped>\n",
       "    .dataframe tbody tr th:only-of-type {\n",
       "        vertical-align: middle;\n",
       "    }\n",
       "\n",
       "    .dataframe tbody tr th {\n",
       "        vertical-align: top;\n",
       "    }\n",
       "\n",
       "    .dataframe thead th {\n",
       "        text-align: right;\n",
       "    }\n",
       "</style>\n",
       "<table border=\"1\" class=\"dataframe\">\n",
       "  <thead>\n",
       "    <tr style=\"text-align: right;\">\n",
       "      <th></th>\n",
       "      <th>general_info</th>\n",
       "    </tr>\n",
       "  </thead>\n",
       "  <tbody>\n",
       "    <tr>\n",
       "      <th>0</th>\n",
       "      <td>🌟 Cơ hội đầu tư – Tòa apartment 7 tầng tại Xuâ...</td>\n",
       "    </tr>\n",
       "    <tr>\n",
       "      <th>1</th>\n",
       "      <td>Siêu phẩm bán nhà mặt phố cầu giấy6 tầng thang...</td>\n",
       "    </tr>\n",
       "    <tr>\n",
       "      <th>2</th>\n",
       "      <td>Bán nhà mặt phố đường bưởi, quận ba đình, 26m2...</td>\n",
       "    </tr>\n",
       "    <tr>\n",
       "      <th>3</th>\n",
       "      <td>Cần mua bán ki ốt 52m2 tại Chung Cư HH Linh Đà...</td>\n",
       "    </tr>\n",
       "    <tr>\n",
       "      <th>4</th>\n",
       "      <td>Bán nhà 27m² 14 tỷ tại Mặt phố Thái Thịnh Phườ...</td>\n",
       "    </tr>\n",
       "  </tbody>\n",
       "</table>\n",
       "</div>"
      ],
      "text/plain": [
       "                                        general_info\n",
       "0  🌟 Cơ hội đầu tư – Tòa apartment 7 tầng tại Xuâ...\n",
       "1  Siêu phẩm bán nhà mặt phố cầu giấy6 tầng thang...\n",
       "2  Bán nhà mặt phố đường bưởi, quận ba đình, 26m2...\n",
       "3  Cần mua bán ki ốt 52m2 tại Chung Cư HH Linh Đà...\n",
       "4  Bán nhà 27m² 14 tỷ tại Mặt phố Thái Thịnh Phườ..."
      ]
     },
     "execution_count": 9,
     "metadata": {},
     "output_type": "execute_result"
    }
   ],
   "source": [
    "df_new.head()"
   ]
  },
  {
   "cell_type": "code",
   "execution_count": 10,
   "id": "6010fa92",
   "metadata": {},
   "outputs": [
    {
     "name": "stdout",
     "output_type": "stream",
     "text": [
      "<class 'pandas.core.frame.DataFrame'>\n",
      "RangeIndex: 16581 entries, 0 to 16580\n",
      "Data columns (total 3 columns):\n",
      " #   Column        Non-Null Count  Dtype \n",
      "---  ------        --------------  ----- \n",
      " 0   general_info  16581 non-null  object\n",
      " 1   category      16581 non-null  int64 \n",
      " 2   retry_count   16581 non-null  int64 \n",
      "dtypes: int64(2), object(1)\n",
      "memory usage: 388.7+ KB\n"
     ]
    }
   ],
   "source": [
    "df_new['category'] = -1\n",
    "df_new['retry_count'] = 0\n",
    "\n",
    "df_new.info()"
   ]
  },
  {
   "cell_type": "code",
   "execution_count": null,
   "id": "32af4fbd",
   "metadata": {},
   "outputs": [
    {
     "name": "stdout",
     "output_type": "stream",
     "text": [
      "Loading model: Qwen/Qwen2.5-0.5B-Instruct\n",
      "This may take a few minutes for the first time...\n",
      "Loading tokenizer...\n"
     ]
    },
    {
     "data": {
      "application/vnd.jupyter.widget-view+json": {
       "model_id": "64f63c05a32b4242bda390ed87b06cac",
       "version_major": 2,
       "version_minor": 0
      },
      "text/plain": [
       "tokenizer_config.json: 0.00B [00:00, ?B/s]"
      ]
     },
     "metadata": {},
     "output_type": "display_data"
    },
    {
     "data": {
      "application/vnd.jupyter.widget-view+json": {
       "model_id": "fbca6a22aa6f4934a3a452a7738d0027",
       "version_major": 2,
       "version_minor": 0
      },
      "text/plain": [
       "vocab.json: 0.00B [00:00, ?B/s]"
      ]
     },
     "metadata": {},
     "output_type": "display_data"
    },
    {
     "data": {
      "application/vnd.jupyter.widget-view+json": {
       "model_id": "3b4ad5309dfe4b96977deaf5146b2774",
       "version_major": 2,
       "version_minor": 0
      },
      "text/plain": [
       "merges.txt: 0.00B [00:00, ?B/s]"
      ]
     },
     "metadata": {},
     "output_type": "display_data"
    },
    {
     "data": {
      "application/vnd.jupyter.widget-view+json": {
       "model_id": "2cf40055f19f44968531c0557ba89fd7",
       "version_major": 2,
       "version_minor": 0
      },
      "text/plain": [
       "tokenizer.json: 0.00B [00:00, ?B/s]"
      ]
     },
     "metadata": {},
     "output_type": "display_data"
    },
    {
     "name": "stdout",
     "output_type": "stream",
     "text": [
      "Loading model...\n"
     ]
    },
    {
     "data": {
      "application/vnd.jupyter.widget-view+json": {
       "model_id": "3bdca3ca181549b6867f3f67d95d6c5d",
       "version_major": 2,
       "version_minor": 0
      },
      "text/plain": [
       "config.json:   0%|          | 0.00/659 [00:00<?, ?B/s]"
      ]
     },
     "metadata": {},
     "output_type": "display_data"
    },
    {
     "data": {
      "application/vnd.jupyter.widget-view+json": {
       "model_id": "ab0b7c68fad74e7ab86d362d11e0c1e4",
       "version_major": 2,
       "version_minor": 0
      },
      "text/plain": [
       "model.safetensors:   0%|          | 0.00/988M [00:00<?, ?B/s]"
      ]
     },
     "metadata": {},
     "output_type": "display_data"
    },
    {
     "data": {
      "application/vnd.jupyter.widget-view+json": {
       "model_id": "ed2d592b30874b96b2323e0e8fdda5ac",
       "version_major": 2,
       "version_minor": 0
      },
      "text/plain": [
       "generation_config.json:   0%|          | 0.00/242 [00:00<?, ?B/s]"
      ]
     },
     "metadata": {},
     "output_type": "display_data"
    },
    {
     "name": "stdout",
     "output_type": "stream",
     "text": [
      "✅ Model loaded successfully!\n",
      "Model device: mps:0\n"
     ]
    },
    {
     "data": {
      "application/vnd.jupyter.widget-view+json": {
       "model_id": "b4a4fe5ae05b4f18b491c3f43f12d5dc",
       "version_major": 2,
       "version_minor": 0
      },
      "text/plain": [
       "Retry 1/3 | Error rate: 0.00%:   0%|          | 0/16581 [00:00<?, ?it/s]"
      ]
     },
     "metadata": {},
     "output_type": "display_data"
    }
   ],
   "source": [
    "interface = ModelQueryInterface()\n",
    "interface.load_model(model_name=model, device_map=device)\n",
    "\n",
    "def check_valid_room_number_response(response):\n",
    "    # Clean response more thoroughly\n",
    "    response = response.strip().lower()\n",
    "    # First check for exact single digit\n",
    "    if re.search(r'^[1-9]$', response):\n",
    "        return int(response)\n",
    "    # Second try to extract first digit\n",
    "    match = re.search(r'[1-9]', response)\n",
    "    if match:\n",
    "        return int(match.group(0))\n",
    "    return None\n",
    "\n",
    "total_processed = 0\n",
    "total_errors = 0\n",
    "error_rate = 0.0\n",
    "\n",
    "for i in range(max_retries):\n",
    "    progress_bar = tqdm(range(length_df), desc=f\"Retry {i+1}/{max_retries} | Error rate: {error_rate:.2f}%\")\n",
    "    for idx in progress_bar:\n",
    "        if df_new.loc[idx, 'category'] == -1:\n",
    "            prompt = f\"{sys_prompt}\\nThông tin bất động sản:\\n{df_new.loc[idx, 'general_info']}\\nSố phòng ngủ ước lượng là:\"\n",
    "\n",
    "            response = interface.query_model(prompt, max_new_tokens=max_new_tokens, temperature=temperature, top_p=top_p)\n",
    "            room_number = check_valid_room_number_response(response)\n",
    "            # print(f\"Index: {idx}, Parsed: {room_number}\")\n",
    "            \n",
    "            total_processed += 1\n",
    "            \n",
    "            if room_number is not None:\n",
    "                df_new.loc[idx, 'category'] = room_number\n",
    "            else:\n",
    "                df_new.loc[idx, 'retry_count'] = df_new.loc[idx, 'retry_count'] + 1\n",
    "                total_errors += 1\n",
    "            \n",
    "            error_rate = (total_errors / total_processed) * 100\n",
    "            \n",
    "            if idx % 10 == 0:\n",
    "                progress_bar.set_description(f\"Retry {i+1}/{max_retries} | Error rate: {error_rate:.2f}%\")"
   ]
  },
  {
   "cell_type": "code",
   "execution_count": null,
   "id": "004e0f07",
   "metadata": {},
   "outputs": [
    {
     "data": {
      "text/plain": [
       "<Axes: ylabel='Frequency'>"
      ]
     },
     "execution_count": 23,
     "metadata": {},
     "output_type": "execute_result"
    },
    {
     "data": {
      "image/png": "[encoded data removed]",
      "text/plain": [
       "<Figure size 640x480 with 1 Axes>"
      ]
     },
     "metadata": {},
     "output_type": "display_data"
    }
   ],
   "source": [
    "df_new['category'].plot(kind = 'hist')"
   ]
  },
  {
   "cell_type": "code",
   "execution_count": null,
   "id": "15ea8993",
   "metadata": {},
   "outputs": [],
   "source": [
    "df.to_csv('../data/guland_hanoi_listings_with_bedrooms_arcgis4.csv', index=False)"
   ]
  }
 ],
 "metadata": {
  "kernelspec": {
   "display_name": "mlenv",
   "language": "python",
   "name": "python3"
  },
  "language_info": {
   "codemirror_mode": {
    "name": "ipython",
    "version": 3
   },
   "file_extension": ".py",
   "mimetype": "text/x-python",
   "name": "python",
   "nbconvert_exporter": "python",
   "pygments_lexer": "ipython3",
   "version": "3.13.5"
  }
 },
 "nbformat": 4,
 "nbformat_minor": 5
}
