{
 "cells": [
  {
   "cell_type": "code",
   "execution_count": null,
   "id": "43e21b6d",
   "metadata": {},
   "outputs": [],
   "source": [
    "import pandas as pd\n",
    "import numpy as np"
   ]
  },
  {
   "cell_type": "code",
   "execution_count": null,
   "id": "7f715f64",
   "metadata": {},
   "outputs": [],
   "source": [
    "from transformers import pipeline\n",
    "\n",
    "sysprompt = \"\"\"Bạn là một chuyên gia phân loại bất động sản Việt Nam.\n",
    "Nhiệm vụ của bạn là phân loại chính xác mô tả bất động sản thành \"căn hộ chung cư\" hoặc \"nhà riêng\".\n",
    "\n",
    "Căn hộ chung cư (0): Nằm trong tòa nhà nhiều tầng, thường có từ khóa như \"chung cư\", \"căn hộ\", \"tầng\", \"thang máy\", \"ban công\", \"view\", \"penthouse\".\n",
    "\n",
    "Nhà riêng (1): Công trình độc lập có đất riêng, thường có từ khóa như \"nhà riêng\", \"nhà mặt phố\", \"biệt thự\", \"liền kề\", \"ngõ\", \"mặt tiền\", \"sân\", \"gara\".\n",
    "\n",
    "QUAN TRỌNG: Chỉ trả lời bằng một chữ số duy nhất (0 hoặc 1), không kèm theo giải thích hay văn bản khác.\n",
    "\n",
    "Ví dụ đúng:\n",
    "Input: Bán căn hộ 2 ngủ tại chung cư Vinhomes, tầng 18, view hồ đẹp.\n",
    "Output: 0\n",
    "\n",
    "Input: Bán nhà mặt phố Trần Duy Hưng, 5 tầng, mặt tiền 7m, kinh doanh sầm uất.\n",
    "Output: 1\n",
    "\n",
    "------------------------------------------\n",
    "[BẮT ĐẦU THÔNG TIN]\n",
    "Thông tin cần phân loại: \"\"\"\n",
    "\n",
    "prompt = \"BÁN NHÀ YÊN LÃNG TRUNG TÂM ĐỐNG ĐA - NHÀ 2 MẶT THOÁNG - NGÕ Ô TÔ ĐỖ CỬA - SỔ VUÔNG VẮN - SIÊU HIẾM\"\n",
    "\n",
    "endprompt = \"\"\"\n",
    "[KẾT THÚC THÔNG TIN]\n",
    "Căn hộ chung cư (0)\n",
    "Nhà riêng (1)\n",
    "Phân loại của thông tin trên (chỉ trả lời 0 hoặc 1):\"\"\"\n",
    "\n",
    "# pipeline = pipeline(task=\"text-generation\", model=\"phamhai/Llama-3.2-3B-Instruct-Frog\", device=\"mps\")\n",
    "pipeline = pipeline(task=\"text-generation\", model=\"Qwen/Qwen2.5-0.5B-Instruct\", device=\"mps\")\n",
    "\n",
    "pipeline(sysprompt + prompt + endprompt, max_new_tokens=2, return_full_text=False)"
   ]
  },
  {
   "cell_type": "code",
   "execution_count": null,
   "id": "0d110f7e",
   "metadata": {},
   "outputs": [],
   "source": [
    "import pandas as pd\n",
    "import numpy as np\n"
   ]
  },
  {
   "cell_type": "code",
   "execution_count": null,
   "id": "d07f3b3e",
   "metadata": {},
   "outputs": [],
   "source": [
    "df = pd.read_csv('../data/guland_hanoi_listings_arcgis3.csv')"
   ]
  },
  {
   "cell_type": "code",
   "execution_count": null,
   "id": "ebd1ba43",
   "metadata": {},
   "outputs": [],
   "source": [
    "df.info()"
   ]
  }
 ],
 "metadata": {
  "kernelspec": {
   "display_name": "mlenv",
   "language": "python",
   "name": "python3"
  },
  "language_info": {
   "codemirror_mode": {
    "name": "ipython",
    "version": 3
   },
   "file_extension": ".py",
   "mimetype": "text/x-python",
   "name": "python",
   "nbconvert_exporter": "python",
   "pygments_lexer": "ipython3",
   "version": "3.13.5"
  }
 },
 "nbformat": 4,
 "nbformat_minor": 5
}
