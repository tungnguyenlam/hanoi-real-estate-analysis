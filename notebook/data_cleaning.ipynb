{
 "cells": [
  {
   "cell_type": "code",
   "execution_count": null,
   "id": "7549888b",
   "metadata": {},
   "outputs": [],
   "source": [
    "import pandas as pd\n"
   ]
  },
  {
   "cell_type": "code",
   "execution_count": null,
   "id": "1c57363b",
   "metadata": {},
   "outputs": [],
   "source": [
    "df = pd.read_csv(\"../data/guland_hanoi_listings_arcgis1.csv\")"
   ]
  },
  {
   "cell_type": "code",
   "execution_count": null,
   "id": "c94fcc2f",
   "metadata": {},
   "outputs": [],
   "source": [
    "print(df.isna().sum())\n",
    "print(\"Dups: \",df.duplicated().sum())"
   ]
  },
  {
   "cell_type": "code",
   "execution_count": null,
   "id": "555d040a",
   "metadata": {},
   "outputs": [],
   "source": [
    "df[df.duplicated()].head(10)"
   ]
  },
  {
   "cell_type": "markdown",
   "id": "e4ef05e6",
   "metadata": {},
   "source": [
    "## Transform the column Prize and Area to float / number type\n",
    "\n",
    "- The common case is that \"ty\" often refer to the price of the whole estate, while \"trieu\" refer to the price of an square meter, but that is not the true case all the time, for real estate that have small area, [some number] + \"trieu\" could refer to the prize of the whole avenue. How to deal with this?\n",
    "- Fuck the above point also depend on the location? Like a venue in Soc Son, with 151m2, this should have really high prize if in inner districts of Hanoi, but here only 750 \"trieu\" for the whole area\n"
   ]
  },
  {
   "cell_type": "code",
   "execution_count": null,
   "id": "a9c80c0e",
   "metadata": {},
   "outputs": [],
   "source": []
  }
 ],
 "metadata": {
  "kernelspec": {
   "display_name": "mlenv",
   "language": "python",
   "name": "python3"
  },
  "language_info": {
   "codemirror_mode": {
    "name": "ipython",
    "version": 3
   },
   "file_extension": ".py",
   "mimetype": "text/x-python",
   "name": "python",
   "nbconvert_exporter": "python",
   "pygments_lexer": "ipython3",
   "version": "3.13.5"
  }
 },
 "nbformat": 4,
 "nbformat_minor": 5
}
