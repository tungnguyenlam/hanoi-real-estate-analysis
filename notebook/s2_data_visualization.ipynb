{
 "cells": [
  {
   "cell_type": "code",
   "execution_count": null,
   "id": "6fabfd43",
   "metadata": {},
   "outputs": [],
   "source": [
    "import pandas as pd\n",
    "import numpy as np\n",
    "import matplotlib.pyplot as plt\n",
    "import seaborn as sns"
   ]
  },
  {
   "cell_type": "code",
   "execution_count": null,
   "id": "5b0d1d38",
   "metadata": {},
   "outputs": [],
   "source": [
    "df = pd.read_csv(\"../data/guland_hanoi_listings_arcgis2.csv\")\n",
    "figdir = \"../data/figures/\""
   ]
  },
  {
   "cell_type": "code",
   "execution_count": null,
   "id": "3c4b5abb",
   "metadata": {},
   "outputs": [],
   "source": [
    "df.info()"
   ]
  },
  {
   "cell_type": "code",
   "execution_count": null,
   "id": "f9de430c",
   "metadata": {},
   "outputs": [],
   "source": [
    "num_cols_name = ['Price', 'Area', 'Latitude', 'Longitude', 'Price per m2']"
   ]
  },
  {
   "cell_type": "code",
   "execution_count": null,
   "id": "935e3b14",
   "metadata": {},
   "outputs": [],
   "source": [
    "plt.figure(figsize=(15, 10))\n",
    "\n",
    "for i, col in enumerate(num_cols_name):\n",
    "    plt.subplot(2, 3, i + 1)\n",
    "    ax = sns.histplot(x=df[col], kde=True,)\n",
    "    lines = ax.get_lines()\n",
    "    lines[0].set_color('red')\n",
    "    plt.title(f'Distribution of {col}')\n",
    "    \n",
    "plt.savefig(f\"{figdir}num_cols_distribution.png\", dpi=300)"
   ]
  },
  {
   "cell_type": "code",
   "execution_count": null,
   "id": "dd713a92",
   "metadata": {},
   "outputs": [],
   "source": [
    "correlation_matrix = df.select_dtypes(include=[np.number]).corr()\n",
    "\n",
    "plt.figure(figsize=(10, 8))\n",
    "sns.heatmap(correlation_matrix, annot=True, cmap='coolwarm', fmt=\".2f\", linewidths=.5)\n",
    "plt.title('Correlation Matrix of Hanoi Real Estate Dataset')\n",
    "plt.show()\n",
    "plt.savefig(f\"{figdir}correlation_matrix.png\", dpi=300)"
   ]
  },
  {
   "cell_type": "code",
   "execution_count": null,
   "id": "fc8a3e83",
   "metadata": {},
   "outputs": [],
   "source": [
    "num_cols_name = ['Price', 'Area', 'Longitude', 'Latitude', 'Price per m2']\n",
    "\n",
    "plt.figure(figsize=(15, 10))\n",
    "for i, col in enumerate(num_cols_name):\n",
    "    plt.subplot(2, 3, i + 1)\n",
    "    sns.boxplot(x=df[col])\n",
    "    plt.title(f'Distribution of {col}')\n",
    "\n",
    "plt.savefig(f\"{figdir}num_cols_boxplot.png\", dpi=300)"
   ]
  },
  {
   "cell_type": "code",
   "execution_count": null,
   "id": "e4b9d435",
   "metadata": {},
   "outputs": [],
   "source": [
    "min_x, max_x = df['Latitude'].min(), df['Latitude'].max()\n",
    "min_y, max_y = df['Longitude'].min(), df['Longitude'].max()\n",
    "median_x, median_y = df['Latitude'].median(), df['Longitude'].median()\n",
    "mean_x, mean_y = df['Latitude'].mean(), df['Longitude'].mean()\n",
    "\n",
    "resolution = 100\n",
    "\n",
    "# x_range = ((df['Latitude'] - min_x) / (max_x - min_x) * (resolution - 1)).astype(int)\n",
    "# y_range = ((df['Longitude'] - min_y) / (max_y - min_y) * (resolution - 1)).astype(int)\n",
    "\n",
    "# heatmap_count = np.zeros((resolution, resolution))\n",
    "# for x, y in zip(x_range, y_range):\n",
    "#     heatmap_count[x, y] += 1\n",
    "\n",
    "def classify_bin(max, min, resolution, value):\n",
    "    return int((value - min) / (max - min) * (resolution - 1))\n",
    "\n",
    "df['bin_x'] = np.vectorize(classify_bin)(max_x, min_x, resolution, df['Latitude'])\n",
    "df['bin_y'] = np.vectorize(classify_bin)(max_y, min_y, resolution, df['Longitude'])\n"
   ]
  },
  {
   "cell_type": "code",
   "execution_count": null,
   "id": "2e6019a1",
   "metadata": {},
   "outputs": [],
   "source": [
    "## Test vectorize and apply\n",
    "import time\n",
    "\n",
    "test_count = 1000\n",
    "\n",
    "apply_time = 0\n",
    "\n",
    "for i in range(test_count):\n",
    "    start_time = time.time()\n",
    "    df['bin_x'] = df['Latitude'].apply(lambda v: classify_bin(max_x, min_x, resolution, v))\n",
    "    df['bin_y'] = df['Longitude'].apply(lambda v: classify_bin(max_y, min_y, resolution, v))\n",
    "    apply_time += time.time() - start_time\n",
    "\n",
    "vectorize_time = 0\n",
    "\n",
    "for i in range(test_count):\n",
    "    start_time = time.time()\n",
    "    df['bin_x'] = np.vectorize(classify_bin)(max_x, min_x, resolution, df['Latitude'])\n",
    "    df['bin_y'] = np.vectorize(classify_bin)(max_y, min_y, resolution, df['Longitude'])\n",
    "    vectorize_time += time.time() - start_time\n",
    "\n",
    "print(f\"Apply time: {apply_time / test_count:.6f} seconds\")\n",
    "print(f\"Vectorize time: {vectorize_time / test_count:.6f} seconds\")"
   ]
  },
  {
   "cell_type": "code",
   "execution_count": null,
   "id": "dfdc378f",
   "metadata": {},
   "outputs": [],
   "source": [
    "heatmap_count = np.zeros((resolution, resolution))\n",
    "for x, y in zip(df['bin_x'], df['bin_y']):\n",
    "    heatmap_count[x, y] += 1\n",
    "\n",
    "# Plot the heatmap\n",
    "plt.figure(figsize = (20,20))\n",
    "sns.heatmap(heatmap_count)\n",
    "sns.scatterplot(x=[median_x, mean_x], y=[median_y, mean_y], color=['green', 'cyan'], s=200, marker='X')\n",
    "plt.title(\"Heatmap of Property Listings\")\n",
    "plt.xlabel(\"Latitude\")\n",
    "plt.ylabel(\"Longitude\")\n",
    "plt.legend(['Number of Listings'])\n",
    "plt.show()\n",
    "\n",
    "plt.savefig(f\"{figdir}heatmap_property_listings.png\", dpi=300)"
   ]
  },
  {
   "cell_type": "code",
   "execution_count": null,
   "id": "4d912e0e",
   "metadata": {},
   "outputs": [],
   "source": [
    "heatmap_count = pd.DataFrame(heatmap_count)\n",
    "print(np.argmax(heatmap_count.T.max()))"
   ]
  },
  {
   "cell_type": "code",
   "execution_count": null,
   "id": "ce5790f3",
   "metadata": {},
   "outputs": [],
   "source": [
    "lat_x = np.linspace(min_x, max_x, resolution)\n",
    "lon_y = np.linspace(min_y, max_y, resolution)\n",
    "\n",
    "print(lat_x)"
   ]
  },
  {
   "cell_type": "code",
   "execution_count": null,
   "id": "bd39734b",
   "metadata": {},
   "outputs": [],
   "source": [
    "print(lat_x[57], lon_y[53])"
   ]
  },
  {
   "cell_type": "code",
   "execution_count": null,
   "id": "528af02b",
   "metadata": {},
   "outputs": [],
   "source": [
    "max_prm2 = df['Price per m2'].max()"
   ]
  },
  {
   "cell_type": "code",
   "execution_count": null,
   "id": "ed2be71e",
   "metadata": {},
   "outputs": [],
   "source": [
    "max_prm2_index = df.loc[df['Price per m2'] == max_prm2].index\n",
    "df.loc[max_prm2_index, ['Latitude', 'Longitude']]\n"
   ]
  },
  {
   "cell_type": "code",
   "execution_count": null,
   "id": "ea1e57e0",
   "metadata": {},
   "outputs": [],
   "source": [
    "# Scatter plot: Price vs Location\n",
    "plt.figure(figsize=(12, 8))\n",
    "scatter = plt.scatter(df['Longitude'], df['Latitude'], c=df['Price'], \n",
    "                     cmap='viridis', s=30, alpha=0.6)\n",
    "plt.colorbar(scatter, label='Price (VND)')\n",
    "plt.xlabel('Longitude')\n",
    "plt.ylabel('Latitude')\n",
    "plt.title('Property Prices by Geographic Location')\n",
    "plt.savefig(f\"{figdir}price_by_location.png\", dpi=300)\n",
    "plt.show()"
   ]
  },
  {
   "cell_type": "code",
   "execution_count": null,
   "id": "78efb67c",
   "metadata": {},
   "outputs": [],
   "source": [
    "plt.figure(figsize=(20, 10))\n",
    "\n",
    "plt.subplot(1, 2, 1)\n",
    "plt.scatter(df['Area'][::5], df['Price'][::5], alpha=0.5)\n",
    "plt.xlabel('Area (m²)')\n",
    "plt.ylabel('Price (1M VND)')\n",
    "plt.title('Price vs Area Relationship')\n",
    "\n",
    "plt.subplot(1, 2, 2)\n",
    "plt.scatter(df['Area'][::5], df['Price per m2'][::5], alpha=0.5)\n",
    "plt.xlabel('Area (m²)')\n",
    "plt.ylabel('Price per m2 (1M VND)')\n",
    "plt.title('Price per m2 vs Area Relationship')\n",
    "\n",
    "plt.savefig(f\"{figdir}price_per_m2_vs_area.png\", dpi=300)"
   ]
  },
  {
   "cell_type": "code",
   "execution_count": null,
   "id": "670719e0",
   "metadata": {},
   "outputs": [],
   "source": [
    "# Price per m2 distribution by area ranges\n",
    "df['Area_Range'] = pd.cut(df['Area'], bins=[0, 50, 100, 200, 500, 1000], labels=['<50m²', '50-100m²', '100-200m²', '200-500m²', '>500m²'])\n",
    "plt.figure(figsize=(12, 6))\n",
    "sns.boxplot(data=df, x='Area_Range', y='Price per m2')\n",
    "plt.title('Price per m² by Property Size')\n",
    "plt.xticks(rotation=45)\n",
    "plt.savefig(f\"{figdir}price_per_m2_by_size.png\", dpi=300)\n",
    "plt.show()"
   ]
  },
  {
   "cell_type": "code",
   "execution_count": null,
   "id": "bb7c4846",
   "metadata": {},
   "outputs": [],
   "source": [
    "df.to_csv(\"../data/guland_hanoi_listings_arcgis3.csv\", index=False)"
   ]
  }
 ],
 "metadata": {
  "kernelspec": {
   "display_name": "mlenv",
   "language": "python",
   "name": "python3"
  },
  "language_info": {
   "codemirror_mode": {
    "name": "ipython",
    "version": 3
   },
   "file_extension": ".py",
   "mimetype": "text/x-python",
   "name": "python",
   "nbconvert_exporter": "python",
   "pygments_lexer": "ipython3",
   "version": "3.13.5"
  }
 },
 "nbformat": 4,
 "nbformat_minor": 5
}
