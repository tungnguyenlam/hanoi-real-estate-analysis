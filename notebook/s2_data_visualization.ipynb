{
 "cells": [
  {
   "cell_type": "code",
   "execution_count": null,
   "id": "6fabfd43",
   "metadata": {},
   "outputs": [],
   "source": [
    "import pandas as pd\n",
    "import numpy as np\n",
    "import matplotlib.pyplot as plt\n",
    "import seaborn as sns\n",
    "import cv2"
   ]
  },
  {
   "cell_type": "code",
   "execution_count": null,
   "id": "5b0d1d38",
   "metadata": {},
   "outputs": [],
   "source": [
    "df = pd.read_csv(\"../data/guland_hanoi_listings_arcgis2.csv\")\n",
    "figdir = \"../data/figures/\""
   ]
  },
  {
   "cell_type": "code",
   "execution_count": null,
   "id": "3c4b5abb",
   "metadata": {},
   "outputs": [],
   "source": [
    "df.info()"
   ]
  },
  {
   "cell_type": "code",
   "execution_count": null,
   "id": "93adfcbe",
   "metadata": {},
   "outputs": [],
   "source": [
    "# def distance_from_point(lat1, lon1, lat2, lon2):\n",
    "#     return np.sqrt((lat1 - lat2)**2 + (lon1 - lon2)**2)\n",
    "badinh = [21.0372556, 105.8353794]\n",
    "\n",
    "def distance_from_point(lat1, lon1, lat2, lon2):\n",
    "    # 1 degree latitude ≈ 111 km\n",
    "    # 1 degree longitude ≈ 111 km * cos(mean latitude)\n",
    "    mean_lat = np.deg2rad((lat1 + lat2) / 2)\n",
    "    dlat_km = (lat1 - lat2) * 111\n",
    "    dlon_km = (lon1 - lon2) * 111 * np.cos(mean_lat)\n",
    "    return np.sqrt(dlat_km**2 + dlon_km**2)\n",
    "\n",
    "min_x, max_x = df['Longitude'].min(), df['Longitude'].max()\n",
    "min_y, max_y = df['Latitude'].min(), df['Latitude'].max()\n",
    "median_x, median_y = df['Longitude'].median(), df['Latitude'].median()\n",
    "mean_x, mean_y = df['Longitude'].mean(), df['Latitude'].mean()\n",
    "\n",
    "resolution = 100\n",
    "\n",
    "lat_centre = badinh[0]\n",
    "lon_centre = badinh[1]\n",
    "df['distance_from_center'] = np.vectorize(distance_from_point)(df['Latitude'], df['Longitude'], lat_centre, lon_centre)"
   ]
  },
  {
   "cell_type": "code",
   "execution_count": null,
   "id": "9d7af143",
   "metadata": {},
   "outputs": [],
   "source": [
    "print(median_y, median_x)"
   ]
  },
  {
   "cell_type": "code",
   "execution_count": null,
   "id": "f9de430c",
   "metadata": {},
   "outputs": [],
   "source": [
    "num_cols_name = ['Price', 'Area', 'Latitude', 'Longitude', 'Price per m2', 'distance_from_center']"
   ]
  },
  {
   "cell_type": "code",
   "execution_count": null,
   "id": "935e3b14",
   "metadata": {},
   "outputs": [],
   "source": [
    "plt.figure(figsize=(15, 10))\n",
    "\n",
    "for i, col in enumerate(num_cols_name):\n",
    "    plt.subplot(2, 3, i + 1)\n",
    "    ax = sns.histplot(x=df[col], kde=True,)\n",
    "    lines = ax.get_lines()\n",
    "    lines[0].set_color('red')\n",
    "    plt.title(f'Distribution of {col}')\n",
    "    \n",
    "plt.savefig(f\"{figdir}num_cols_distribution.png\", dpi=300)\n",
    "plt.savefig(f\"{figdir}num_cols_distribution.svg\")\n",
    "plt.show()"
   ]
  },
  {
   "cell_type": "code",
   "execution_count": null,
   "id": "c11772b5",
   "metadata": {},
   "outputs": [],
   "source": [
    "# x_range = ((df['Longitude'] - min_x) / (max_x - min_x) * (resolution - 1)).astype(int)\n",
    "# y_range = ((df['Latitude'] - min_y) / (max_y - min_y) * (resolution - 1)).astype(int)\n",
    "\n",
    "# heatmap_count = np.zeros((resolution, resolution))\n",
    "# for x, y in zip(x_range, y_range):\n",
    "#     heatmap_count[x, y] += 1\n",
    "\n",
    "def classify_bin(max, min, resolution, value):\n",
    "    return int((value - min) / (max - min) * (resolution - 1))\n",
    "\n",
    "df['bin_x'] = np.vectorize(classify_bin)(max_x, min_x, resolution, df['Longitude'])\n",
    "df['bin_y'] = np.vectorize(classify_bin)(max_y, min_y, resolution, df['Latitude'])"
   ]
  },
  {
   "cell_type": "code",
   "execution_count": null,
   "id": "dd713a92",
   "metadata": {},
   "outputs": [],
   "source": [
    "correlation_matrix = df[num_cols_name].corr()\n",
    "\n",
    "plt.figure(figsize=(10, 8))\n",
    "sns.heatmap(correlation_matrix, annot=True, cmap='coolwarm', fmt=\".2f\", linewidths=.5)\n",
    "plt.title('Correlation Matrix of Hanoi Real Estate Dataset')\n",
    "plt.savefig(f\"{figdir}correlation_matrix.png\", dpi=300)\n",
    "plt.show()"
   ]
  },
  {
   "cell_type": "code",
   "execution_count": null,
   "id": "fc8a3e83",
   "metadata": {},
   "outputs": [],
   "source": [
    "plt.figure(figsize=(15, 10))\n",
    "for i, col in enumerate(num_cols_name):\n",
    "    plt.subplot(2, 3, i + 1)\n",
    "    sns.boxplot(x=df[col])\n",
    "    plt.title(f'Distribution of {col}')\n",
    "\n",
    "plt.savefig(f\"{figdir}num_cols_boxplot.png\", dpi=300)\n",
    "plt.show()"
   ]
  },
  {
   "cell_type": "code",
   "execution_count": null,
   "id": "67364c24",
   "metadata": {},
   "outputs": [],
   "source": [
    "print(min_x, max_x, min_y, max_y)"
   ]
  },
  {
   "cell_type": "code",
   "execution_count": null,
   "id": "dfdc378f",
   "metadata": {},
   "outputs": [],
   "source": [
    "heatmap_count = np.zeros((resolution, resolution))\n",
    "for y, x in zip(df['bin_x'], df['bin_y']):\n",
    "    heatmap_count[x, y] += 1\n",
    "\n",
    "# Plot the heatmap\n",
    "plt.figure(figsize = (20,20))\n",
    "plt.imshow(heatmap_count, extent=[min_x, max_x, min_y, max_y], aspect='auto', cmap='inferno', interpolation='nearest')\n",
    "plt.title(\"Heatmap of Property Listings\")\n",
    "plt.xlabel(\"Longitude\")\n",
    "plt.ylabel(\"Latitude\")\n",
    "plt.colorbar(label='Number of Listings')\n",
    "plt.savefig(f\"{figdir}heatmap_property_listings.png\", dpi=300)\n",
    "plt.show()"
   ]
  },
  {
   "cell_type": "code",
   "execution_count": null,
   "id": "4d912e0e",
   "metadata": {},
   "outputs": [],
   "source": [
    "heatmap_count = pd.DataFrame(heatmap_count)\n",
    "print(np.argmax(heatmap_count.T.max()))"
   ]
  },
  {
   "cell_type": "code",
   "execution_count": null,
   "id": "ce5790f3",
   "metadata": {},
   "outputs": [],
   "source": [
    "lon_x = np.linspace(min_x, max_x, resolution)\n",
    "lat_y = np.linspace(min_y, max_y, resolution)"
   ]
  },
  {
   "cell_type": "code",
   "execution_count": null,
   "id": "666251ac",
   "metadata": {},
   "outputs": [],
   "source": [
    "hanoi_map = cv2.imread('../data/hanoi_map.png')"
   ]
  },
  {
   "cell_type": "code",
   "execution_count": null,
   "id": "2b7fc737",
   "metadata": {},
   "outputs": [],
   "source": [
    "pricem2_heatmap = np.zeros((resolution, resolution))\n",
    "\n",
    "for i in range(resolution):\n",
    "    for j in range(resolution):\n",
    "        df_bin = df[(df['bin_x'] == i) & (df['bin_y'] == j)]\n",
    "        if len(df_bin) > 0:\n",
    "            pricem2_heatmap[resolution-j-1, i] = df_bin['Price per m2'].mean()\n",
    "        else:\n",
    "            pricem2_heatmap[resolution-j-1, i] = 0\n",
    "\n",
    "# Plot the heatmap\n",
    "plt.figure(figsize = (20,20))\n",
    "# sns.heatmap(pricem2_heatmap)\n",
    "# plt.imshow(hanoi_map, extent=[105.66, 105.96, 20.9, 21.13], aspect='auto')\n",
    "plt.imshow(pricem2_heatmap, extent=[min_x, max_x, min_y, max_y], aspect='auto', cmap='inferno', interpolation='nearest')\n",
    "plt.title(\"Heatmap of Price per m2\")\n",
    "plt.xlabel(\"Longitude\")\n",
    "plt.ylabel(\"Latitude\")\n",
    "plt.colorbar(label='Price per m2')\n",
    "\n",
    "plt.savefig(f\"{figdir}heatmap_price_per_m2.png\", dpi=300)\n",
    "plt.show()\n"
   ]
  },
  {
   "cell_type": "code",
   "execution_count": null,
   "id": "b8f9fd7a",
   "metadata": {},
   "outputs": [],
   "source": [
    "print(pricem2_heatmap.shape)\n",
    "\n",
    "max_idx = np.argmax(pricem2_heatmap)\n",
    "row, col = np.unravel_index(max_idx, pricem2_heatmap.shape)\n",
    "print(row, col)\n",
    "print('Coordinates of highest average Price per m2:')\n",
    "print(lon_x[col], lat_y[resolution - row - 1])\n",
    "print(lon_x[col+1], lat_y[resolution - row])\n",
    "\n",
    "print(\"The centre is\")\n",
    "print((lon_x[col] + lon_x[col+1]) / 2, (lat_y[resolution - row - 1] +lat_y[resolution - row]) /2)"
   ]
  },
  {
   "cell_type": "code",
   "execution_count": null,
   "id": "61a7b804",
   "metadata": {},
   "outputs": [],
   "source": [
    "# Filter cells with a minimum number of data points\n",
    "min_points = 1  # Adjust this threshold as needed\n",
    "filtered_heatmap = pricem2_heatmap.copy()\n",
    "\n",
    "for i in range(resolution):\n",
    "    for j in range(resolution):\n",
    "        df_bin = df[(df['bin_x'] == i) & (df['bin_y'] == j)]\n",
    "        if len(df_bin) < min_points:\n",
    "            filtered_heatmap[resolution-j-1, i] = 0\n",
    "\n",
    "max_idx = np.argmax(filtered_heatmap)\n",
    "row, col = np.unravel_index(max_idx, filtered_heatmap.shape)\n",
    "\n",
    "# Now print information about this cell\n",
    "print(\"Highest average Price per m2:\", filtered_heatmap[row, col])\n",
    "print(\"Number of data points in this cell:\", len(df[(df['bin_x'] == col) & (df['bin_y'] == resolution - row - 1)]))\n",
    "print(\"Center coordinates:\", (lat_y[resolution - row - 1] + lat_y[resolution - row])/2, (lon_x[col] + lon_x[col+1])/2)"
   ]
  },
  {
   "cell_type": "code",
   "execution_count": null,
   "id": "a415fda0",
   "metadata": {},
   "outputs": [],
   "source": [
    "# 1. Identify the bin coordinates from your analysis\n",
    "bin_x = col  # From your max_idx calculation\n",
    "bin_y = resolution - row - 1  # Based on your code\n",
    "\n",
    "# 2. Find the exact listing in this bin\n",
    "high_price_listing = df[(df['bin_x'] == bin_x) & (df['bin_y'] == bin_y)]\n",
    "\n",
    "# 3. Display details of the listing\n",
    "print(high_price_listing['Link'].iloc[0])\n",
    "high_price_listing[['Longitude', 'Latitude', 'Price per m2', 'Link', 'Address']]"
   ]
  },
  {
   "cell_type": "code",
   "execution_count": null,
   "id": "f83e1917",
   "metadata": {},
   "outputs": [],
   "source": [
    "print(df.sort_values(by='Price per m2', ascending=False)[['Longitude','Latitude','Price per m2']].head(1))"
   ]
  },
  {
   "cell_type": "code",
   "execution_count": null,
   "id": "48d08b39",
   "metadata": {},
   "outputs": [],
   "source": [
    "# plt.figure(figsize=(11,10))\n",
    "# plt.scatter(df['Longitude'], df['Latitude'], s=df['Price per m2']/6, alpha=0.3, label = \"Trieu\", c=df['Price per m2'], cmap=\"jet\")\n",
    "\n",
    "plt.figure(figsize=(11,10))\n",
    "plt.scatter(df['Longitude'], df['Latitude'], s=df['Price per m2']/6, alpha=0.3, label = \"Trieu\", c=df['distance_from_center'], cmap=\"inferno\")\n",
    "\n"
   ]
  },
  {
   "cell_type": "code",
   "execution_count": null,
   "id": "1d1c9e0c",
   "metadata": {},
   "outputs": [],
   "source": [
    "hanoi_map = cv2.imread('../data/figures/hanoi_map.png')\n",
    "\n",
    "# df = df.sort_values(by='Price per m2', ascending=True)\n",
    "\n",
    "plt.figure(figsize=(11,10), dpi=300)\n",
    "plt.imshow(hanoi_map, extent=[105.66, 105.96, 20.9, 21.13], aspect='auto')\n",
    "plt.scatter(df['Longitude'], df['Latitude'], s=df['Price per m2']/6, alpha=0.3, label = \"Trieu\", c=df['Price per m2'], cmap=\"jet\")\n",
    "plt.title(\"Scatter plot of Price per m2 on Hanoi map\")\n",
    "plt.savefig(f\"{figdir}scatter_price_per_m2_on_map.png\", dpi=300)\n",
    "plt.show()"
   ]
  },
  {
   "cell_type": "code",
   "execution_count": null,
   "id": "24261735",
   "metadata": {},
   "outputs": [],
   "source": [
    "hanoi_map = cv2.imread('../data/figures/hanoi_map.png')\n",
    "\n",
    "df_top100_pm2 = df.groupby(['Latitude', 'Longitude'], as_index=False).apply(\n",
    "    lambda x: x.loc[x['Price per m2'].idxmax()]\n",
    ").sort_values(by='Price per m2', ascending=False).head(100)\n",
    "\n",
    "plt.figure(figsize=(11,10), dpi=300)\n",
    "plt.imshow(hanoi_map, extent=[105.66, 105.96, 20.9, 21.13], aspect='auto')\n",
    "plt.scatter(df_top100_pm2['Longitude'], df_top100_pm2['Latitude'], s=df_top100_pm2['Price per m2']/6, alpha=0.9, label = \"Trieu\", c=df_top100_pm2['Price per m2'], cmap=\"jet\")\n",
    "plt.title(\"Scatter plot of 100 highest Price per m2 on Hanoi map\")\n",
    "plt.savefig(f\"{figdir}scatter_price_per_m2_on_map.png\", dpi=300)\n",
    "plt.show()"
   ]
  },
  {
   "cell_type": "code",
   "execution_count": null,
   "id": "a1e36911",
   "metadata": {},
   "outputs": [],
   "source": [
    "plt.clf()\n",
    "plt.figure(figsize=(11,10), dpi=300)\n",
    "plt.imshow(hanoi_map, extent=[105.66, 105.96, 20.9, 21.13], aspect='auto')\n",
    "plt.hexbin(df['Longitude'], df['Latitude'], C=df['Price per m2'], gridsize=50, cmap='inferno', alpha=0.8, reduce_C_function=np.mean)\n",
    "plt.title(\"Hexbin of Price per m2 on Hanoi map\")\n",
    "plt.savefig(f\"{figdir}hexbin_price_per_m2_on_map.png\", dpi=300)\n",
    "plt.show()"
   ]
  },
  {
   "cell_type": "code",
   "execution_count": null,
   "id": "43743869",
   "metadata": {},
   "outputs": [],
   "source": [
    "# Get frequency count of each unique Longitude-Latitude pair\n",
    "location_counts = df.groupby(['Longitude', 'Latitude']).size().reset_index(name='count')\n",
    "\n",
    "# Sort by frequency (descending)\n",
    "location_counts = location_counts.sort_values('count', ascending=False)\n",
    "\n",
    "# Display the most frequently occurring locations\n",
    "print(location_counts.head(10))  # Top 10 most frequent locations\n",
    "\n",
    "# See how many locations occur more than once\n",
    "print(f\"Points that appear multiple times: {(location_counts['count'] > 1).sum()}\")"
   ]
  },
  {
   "cell_type": "code",
   "execution_count": null,
   "id": "0c3a286e",
   "metadata": {},
   "outputs": [],
   "source": [
    "## Check the link of the most frequent location\n",
    "most_frequent_location = location_counts.iloc[0]\n",
    "lat, lon = most_frequent_location['Latitude'], most_frequent_location['Longitude']\n",
    "df[(df['Latitude'] == lat) & (df['Longitude'] == lon)]['Link'].head(10).values"
   ]
  },
  {
   "cell_type": "code",
   "execution_count": null,
   "id": "670719e0",
   "metadata": {},
   "outputs": [],
   "source": [
    "# Price per m2 distribution by area ranges\n",
    "df['Area_Range'] = pd.cut(df['Area'], bins=[0, 50, 100, 200, 500, 1000], labels=['<50m²', '50-100m²', '100-200m²', '200-500m²', '>500m²'])\n",
    "plt.figure(figsize=(12, 6))\n",
    "sns.boxplot(data=df, x='Area_Range', y='Price per m2')\n",
    "plt.title('Price per m² by Property Size')\n",
    "plt.xticks(rotation=45)\n",
    "plt.savefig(f\"{figdir}price_per_m2_by_size.png\", dpi=300)\n",
    "plt.show()"
   ]
  },
  {
   "cell_type": "code",
   "execution_count": null,
   "id": "9aefcc4a",
   "metadata": {},
   "outputs": [],
   "source": [
    "sns.pairplot(\n",
    "    df[num_cols_name],\n",
    "    plot_kws={'s': 10, 'alpha': 0.3},  # smaller, more transparent points\n",
    "    diag_kws={'fill': True}\n",
    ")\n",
    "plt.gcf().set_size_inches(18, 18)  # even larger figure\n",
    "plt.tight_layout()\n",
    "plt.show()"
   ]
  },
  {
   "cell_type": "code",
   "execution_count": null,
   "id": "bb7c4846",
   "metadata": {},
   "outputs": [],
   "source": [
    "df.to_csv(\"../data/guland_hanoi_listings_arcgis3.csv\", index=False)"
   ]
  }
 ],
 "metadata": {
  "kernelspec": {
   "display_name": "mlenv",
   "language": "python",
   "name": "python3"
  },
  "language_info": {
   "codemirror_mode": {
    "name": "ipython",
    "version": 3
   },
   "file_extension": ".py",
   "mimetype": "text/x-python",
   "name": "python",
   "nbconvert_exporter": "python",
   "pygments_lexer": "ipython3",
   "version": "3.13.5"
  }
 },
 "nbformat": 4,
 "nbformat_minor": 5
}
