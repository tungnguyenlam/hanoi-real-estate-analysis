{
 "cells": [
  {
   "cell_type": "code",
   "execution_count": null,
   "id": "7549888b",
   "metadata": {},
   "outputs": [],
   "source": [
    "import pandas as pd\n",
    "import numpy as np\n",
    "import matplotlib.pyplot as plt\n",
    "import seaborn as sns"
   ]
  },
  {
   "cell_type": "code",
   "execution_count": null,
   "id": "1c57363b",
   "metadata": {},
   "outputs": [],
   "source": [
    "df = pd.read_csv(\"../data/guland_hanoi_listings_arcgis1.csv\")"
   ]
  },
  {
   "cell_type": "code",
   "execution_count": null,
   "id": "bcece63e",
   "metadata": {},
   "outputs": [],
   "source": [
    "df.info()"
   ]
  },
  {
   "cell_type": "code",
   "execution_count": null,
   "id": "1df54c73",
   "metadata": {},
   "outputs": [],
   "source": [
    "df.describe()"
   ]
  },
  {
   "cell_type": "code",
   "execution_count": null,
   "id": "c94fcc2f",
   "metadata": {},
   "outputs": [],
   "source": [
    "print(df.isna().sum())\n",
    "print(\"Dups: \",df.duplicated().sum())"
   ]
  },
  {
   "cell_type": "code",
   "execution_count": null,
   "id": "555d040a",
   "metadata": {},
   "outputs": [],
   "source": [
    "df[df.duplicated()].head(10)"
   ]
  },
  {
   "cell_type": "code",
   "execution_count": null,
   "id": "55c20208",
   "metadata": {},
   "outputs": [],
   "source": [
    "df.info()"
   ]
  },
  {
   "cell_type": "markdown",
   "id": "e4ef05e6",
   "metadata": {},
   "source": [
    "## Transform the column Prize and Area to float / number type\n",
    "\n",
    "- The common case is that \"ty\" often refer to the price of the whole estate, while \"trieu\" refer to the price of an square meter, but that is not the true case all the time, for real estate that have small area, [some number] + \"trieu\" could refer to the prize of the whole avenue. How to deal with this?\n",
    "- Fuck the above point also depend on the location? Like a venue in Soc Son, with 151m2, this should have really high prize if in inner districts of Hanoi, but here only 750 \"trieu\" for the whole area\n"
   ]
  },
  {
   "cell_type": "markdown",
   "id": "2bee8f4c",
   "metadata": {},
   "source": [
    "- Remove all nan in Price and Area"
   ]
  },
  {
   "cell_type": "code",
   "execution_count": null,
   "id": "800b0364",
   "metadata": {},
   "outputs": [],
   "source": [
    "df = df[df['Price'].notna() & df['Area'].notna()]"
   ]
  },
  {
   "cell_type": "code",
   "execution_count": null,
   "id": "fdb5c1b1",
   "metadata": {},
   "outputs": [],
   "source": [
    "df.reset_index(drop=True, inplace=True)"
   ]
  },
  {
   "cell_type": "code",
   "execution_count": null,
   "id": "dcbf5cae",
   "metadata": {},
   "outputs": [],
   "source": [
    "df.info()"
   ]
  },
  {
   "cell_type": "code",
   "execution_count": null,
   "id": "7533eed3",
   "metadata": {},
   "outputs": [],
   "source": [
    "print(df.isna().sum())\n",
    "print(\"Dups: \",df.duplicated().sum())"
   ]
  },
  {
   "cell_type": "code",
   "execution_count": null,
   "id": "221e8089",
   "metadata": {},
   "outputs": [],
   "source": [
    "df.drop_duplicates(inplace=True)"
   ]
  },
  {
   "cell_type": "code",
   "execution_count": null,
   "id": "9c7203eb",
   "metadata": {},
   "outputs": [],
   "source": [
    "df.info()"
   ]
  },
  {
   "cell_type": "markdown",
   "id": "7864e3ff",
   "metadata": {},
   "source": [
    "- First remove rows that have no \"trieu\" or \"ty\" in 'Prize' columns, we dont want to deal with that and classify manually"
   ]
  },
  {
   "cell_type": "code",
   "execution_count": null,
   "id": "a9c80c0e",
   "metadata": {},
   "outputs": [],
   "source": [
    "df[~(df['Price'].str.contains(\"tỷ\") | df['Price'].str.contains(\"triệu\"))].info()\n"
   ]
  },
  {
   "cell_type": "markdown",
   "id": "3c69fc5d",
   "metadata": {},
   "source": [
    "- Check the number of rows that have \"trieu\""
   ]
  },
  {
   "cell_type": "code",
   "execution_count": null,
   "id": "775eb69c",
   "metadata": {},
   "outputs": [],
   "source": [
    "df['Price'].str.contains(\"triệu\").value_counts()"
   ]
  },
  {
   "cell_type": "markdown",
   "id": "eb24b365",
   "metadata": {},
   "source": [
    "- 252? we decide to delete those cols since we have >20k rows amt, might revisit later if we can come up with another way"
   ]
  },
  {
   "cell_type": "code",
   "execution_count": null,
   "id": "7b5b3823",
   "metadata": {},
   "outputs": [],
   "source": [
    "df = df[~df['Price'].str.contains(\"triệu\", na = False)]\n",
    "df.info()"
   ]
  },
  {
   "cell_type": "code",
   "execution_count": null,
   "id": "28a3c965",
   "metadata": {},
   "outputs": [],
   "source": [
    "global count_invalid\n",
    "count_invalid = 0  # Initialize the global variable\n",
    "\n",
    "def sanitize_and_cv_to_float(price) -> float:\n",
    "    global count_invalid\n",
    "    price = str(price)\n",
    "    if \"tỷ\" in price:\n",
    "        price = price.replace(\"tỷ\", \"\").strip()\n",
    "    if \"m²\" in price:\n",
    "        price = price.replace(\"m²\", \"\").strip()\n",
    "    try:\n",
    "        return float(price)\n",
    "    except:\n",
    "        count_invalid += 1\n",
    "        return np.nan\n",
    "    \n"
   ]
  },
  {
   "cell_type": "code",
   "execution_count": null,
   "id": "a516050e",
   "metadata": {},
   "outputs": [],
   "source": [
    "df['Price'] = np.vectorize(sanitize_and_cv_to_float)(df['Price'])\n",
    "print(count_invalid)"
   ]
  },
  {
   "cell_type": "code",
   "execution_count": null,
   "id": "1d94602f",
   "metadata": {},
   "outputs": [],
   "source": [
    "count_invalid = 0\n",
    "df['Area'] = np.vectorize(sanitize_and_cv_to_float)(df['Area'])\n",
    "print(count_invalid)\n",
    "df['Price per m2'] = 1e3 * df['Price'] / df['Area']"
   ]
  },
  {
   "cell_type": "code",
   "execution_count": null,
   "id": "bac64edd",
   "metadata": {},
   "outputs": [],
   "source": [
    "df.head(10)"
   ]
  },
  {
   "cell_type": "code",
   "execution_count": null,
   "id": "923f8c27",
   "metadata": {},
   "outputs": [],
   "source": [
    "df.isna().sum()"
   ]
  },
  {
   "cell_type": "markdown",
   "id": "ef91ddad",
   "metadata": {},
   "source": [
    "## Remove Outliers"
   ]
  },
  {
   "cell_type": "code",
   "execution_count": null,
   "id": "f5fce617",
   "metadata": {},
   "outputs": [],
   "source": [
    "num_cols_name = ['Price', 'Area', 'Longitude', 'Latitude', 'Price per m2']\n",
    "# num_cols_name = ['Longitude', 'Latitude']\n",
    "\n",
    "# num_cols_name = ['Longitude', 'Latitude']\n",
    "\n",
    "\n",
    "plt.figure(figsize=(15, 10))\n",
    "for i, col in enumerate(num_cols_name):\n",
    "    plt.subplot(2, 3, i + 1)\n",
    "    sns.boxplot(x=df[col])\n",
    "    plt.title(f'Distribution of {col}')"
   ]
  },
  {
   "cell_type": "code",
   "execution_count": null,
   "id": "132e80d6",
   "metadata": {},
   "outputs": [],
   "source": [
    "Q1 = df[num_cols_name].quantile(0.25)\n",
    "Q3 = df[num_cols_name].quantile(0.75)\n",
    "IQR = Q3 - Q1\n",
    "\n",
    "# df_cleaned = df[(df[num_cols_name] >= Q1 - 1.5 * IQR) & (df[num_cols_name] <= Q3 + 1.5 * IQR).all(axis=1)]\n",
    "# df_cleaned.info()\n",
    "# TOOO SLOWWW\n",
    "\n",
    "conditions = []\n",
    "for col in num_cols_name:\n",
    "    lower = Q1[col] - 1.5 * IQR[col]\n",
    "    upper = Q3[col] + 1.5 * IQR[col]\n",
    "    conditions.append(f\"({lower} <= `{col}` <= {upper})\")\n",
    "\n",
    "query_string = \" and \".join(conditions)\n",
    "df = df.query(query_string)\n",
    "df.reset_index(drop=True, inplace=True)\n",
    "df.info()"
   ]
  },
  {
   "cell_type": "code",
   "execution_count": null,
   "id": "00beab02",
   "metadata": {},
   "outputs": [],
   "source": [
    "print(df.duplicated().sum())\n",
    "print(df.duplicated(['Price', 'Area', 'Latitude', 'Longitude']).sum())"
   ]
  },
  {
   "cell_type": "code",
   "execution_count": null,
   "id": "f9e52aba",
   "metadata": {},
   "outputs": [],
   "source": [
    "print(df.duplicated(['Latitude', 'Longitude']).sum())"
   ]
  },
  {
   "cell_type": "code",
   "execution_count": null,
   "id": "786f9853",
   "metadata": {},
   "outputs": [],
   "source": [
    "df.info()"
   ]
  },
  {
   "cell_type": "code",
   "execution_count": null,
   "id": "bb897a08",
   "metadata": {},
   "outputs": [],
   "source": [
    "df.to_csv(\"../data/guland_hanoi_listings_arcgis2.csv\", index=False)"
   ]
  },
  {
   "cell_type": "code",
   "execution_count": null,
   "id": "08f589c6",
   "metadata": {},
   "outputs": [],
   "source": []
  },
  {
   "cell_type": "markdown",
   "id": "917c0628",
   "metadata": {},
   "source": []
  }
 ],
 "metadata": {
  "kernelspec": {
   "display_name": "mlenv",
   "language": "python",
   "name": "python3"
  },
  "language_info": {
   "codemirror_mode": {
    "name": "ipython",
    "version": 3
   },
   "file_extension": ".py",
   "mimetype": "text/x-python",
   "name": "python",
   "nbconvert_exporter": "python",
   "pygments_lexer": "ipython3",
   "version": "3.13.5"
  }
 },
 "nbformat": 4,
 "nbformat_minor": 5
}
